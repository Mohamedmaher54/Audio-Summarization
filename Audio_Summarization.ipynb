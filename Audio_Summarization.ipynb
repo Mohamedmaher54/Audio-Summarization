{
  "cells": [
    {
      "cell_type": "code",
      "execution_count": 1,
      "metadata": {
        "collapsed": true,
        "id": "GAQJ7W2poJAW"
      },
      "outputs": [],
      "source": [
        "pip install openai-whisper --quiet"
      ]
    },
    {
      "cell_type": "code",
      "execution_count": 2,
      "metadata": {
        "collapsed": true,
        "id": "i3njti-_AfVQ"
      },
      "outputs": [],
      "source": [
        "pip install google-cloud-aiplatform --quiet"
      ]
    },
    {
      "cell_type": "code",
      "execution_count": 3,
      "metadata": {
        "id": "f6X9RKLDswx0"
      },
      "outputs": [],
      "source": [
        "pip install -q -U google-genai --quiet"
      ]
    },
    {
      "cell_type": "code",
      "execution_count": 4,
      "metadata": {
        "collapsed": true,
        "id": "Nb48Ca-MCDEw"
      },
      "outputs": [],
      "source": [
        "!pip install streamlit google-generativeai pydub pyngrok --quiet"
      ]
    },
    {
      "cell_type": "code",
      "source": [
        "pip install gTTS"
      ],
      "metadata": {
        "colab": {
          "base_uri": "https://localhost:8080/"
        },
        "id": "8w9hazH_Qkxn",
        "outputId": "ad1b6e7a-8667-41b1-ec75-bf073f5776fc"
      },
      "execution_count": 5,
      "outputs": [
        {
          "output_type": "stream",
          "name": "stdout",
          "text": [
            "Requirement already satisfied: gTTS in /usr/local/lib/python3.11/dist-packages (2.5.4)\n",
            "Requirement already satisfied: requests<3,>=2.27 in /usr/local/lib/python3.11/dist-packages (from gTTS) (2.32.3)\n",
            "Requirement already satisfied: click<8.2,>=7.1 in /usr/local/lib/python3.11/dist-packages (from gTTS) (8.1.8)\n",
            "Requirement already satisfied: charset-normalizer<4,>=2 in /usr/local/lib/python3.11/dist-packages (from requests<3,>=2.27->gTTS) (3.4.1)\n",
            "Requirement already satisfied: idna<4,>=2.5 in /usr/local/lib/python3.11/dist-packages (from requests<3,>=2.27->gTTS) (3.10)\n",
            "Requirement already satisfied: urllib3<3,>=1.21.1 in /usr/local/lib/python3.11/dist-packages (from requests<3,>=2.27->gTTS) (2.3.0)\n",
            "Requirement already satisfied: certifi>=2017.4.17 in /usr/local/lib/python3.11/dist-packages (from requests<3,>=2.27->gTTS) (2025.1.31)\n"
          ]
        }
      ]
    },
    {
      "cell_type": "code",
      "execution_count": 6,
      "metadata": {
        "id": "ljhGqupSoShW"
      },
      "outputs": [],
      "source": [
        "import whisper\n",
        "\n",
        "# Load the Whisper model\n",
        "model = whisper.load_model(\"base\")\n",
        "\n",
        "# Transcribe the audio file\n",
        "def transcribe_audio(file_path):\n",
        "    result = model.transcribe(file_path)\n",
        "    return result['text']"
      ]
    },
    {
      "cell_type": "code",
      "execution_count": 7,
      "metadata": {
        "colab": {
          "base_uri": "https://localhost:8080/"
        },
        "id": "MCrBUvsPoVyg",
        "outputId": "24f6a1ae-5ebc-4427-c73d-15e2175a8f0a"
      },
      "outputs": [
        {
          "output_type": "stream",
          "name": "stdout",
          "text": [
            " So, right, so early on in my career, I spent a lot of time kind of working on fissions and road maps and ideas and you know some of them ended up not happening at all. I remember us throwing away like large projects or canceling them late on. It still happens to me today. It still happens to people on my team today. Yeah, priorities change and I think that is yeah, market change was lots of reasons for it, but I remember being so frustrated because I think I came straight out of school with this idea that you're given an assignment and then you do it. And there is no like takes these backsees on an assignment. It's like here's the content we need from you. Now produce it and then you're graded on it. That's so wildly different than entering in the workforce and it became really difficult to try and like ratify this idea that I just had to work and produce things with none of it. My mattress in the day, none of it might be used, none of it, or any of it might not go anywhere. And it felt like there's like one mental or colossal waste of time. And it took me a while to get over it, but I don't really appreciate it until I joined this newest team where we have this culture of right to think. And it all of a sudden it made me think about things differently, which is not simply that hey, priorities change. Things shift sometimes we stop work to go on something else and you know that's just part of the game. It's like no, no, the act of what you've produced and the content you created is part of the process on making you better at what you do in the future, going forward, honing your skills. Certainly when it comes to the ideation side of things. And then it became a question of well how do I extend that thinking to like all aspects. And or how do I speed up that learning and neck rowing. And so that's where this culture of right to think comes into play where right more. You might still do the same amount, but like right more, right earlier, right often, right, not with the intention of it needing to be a final product and be willing to scrap it and move on once it's served its purpose. And this idea of right to think kind of ties in nicely to iterative processes and doing by learning, but it's just such a nice framing. And it's something I'm constantly now talking about and going back on it. I think it's something to just call out is like the importance of writing to think and reframing young Jacqueline's mindset around throwaway work because in this model there is no such thing to throwaway work. It's all helping you just hone your skills and get better over time.\n"
          ]
        }
      ],
      "source": [
        "transcript = transcribe_audio('/content/Walking_thoughts_3.m4a')\n",
        "print(transcript)"
      ]
    },
    {
      "cell_type": "code",
      "execution_count": 8,
      "metadata": {
        "id": "bAqjunvk93lk",
        "colab": {
          "base_uri": "https://localhost:8080/",
          "height": 72
        },
        "outputId": "b5b2fa71-d383-4047-bb46-e0d9f750c809"
      },
      "outputs": [
        {
          "output_type": "stream",
          "name": "stdout",
          "text": [
            "The speaker describes a frustrating early career experience where projects were frequently canceled, leading to a feeling of wasted effort. They contrast this with the structured academic environment they were used to. However, joining a new team with a \"write to think\" culture shifted their perspective. They realized that even work that gets scrapped is valuable because it contributes to skill development and learning. The \"write to think\" approach encourages frequent, early writing with the understanding that not everything will be a final product, promoting iteration and learning. They now advocate for this approach, emphasizing that there is no \"throwaway work\" in this model, as it all contributes to improvement.\n",
            "\n"
          ]
        }
      ],
      "source": [
        "from google import generativeai as genai\n",
        "genai.configure(api_key=\"YOUR_API_KEY\")\n",
        "\n",
        "def summarize_text(text):\n",
        "    model = genai.GenerativeModel(model_name=\"gemini-2.0-flash\")\n",
        "    response = model.generate_content(\n",
        "        contents=[f\"Please summarize the following text:\\n\\n{text}\"]\n",
        "    )\n",
        "    return response.text\n",
        "summary = summarize_text(transcript)\n",
        "print(summary)"
      ]
    },
    {
      "cell_type": "code",
      "source": [
        "summary"
      ],
      "metadata": {
        "colab": {
          "base_uri": "https://localhost:8080/",
          "height": 87
        },
        "id": "kM0NDMWgXS13",
        "outputId": "9f9bab7a-d685-44af-8041-370a060bd02c"
      },
      "execution_count": 9,
      "outputs": [
        {
          "output_type": "execute_result",
          "data": {
            "text/plain": [
              "'The speaker describes a frustrating early career experience where projects were frequently canceled, leading to a feeling of wasted effort. They contrast this with the structured academic environment they were used to. However, joining a new team with a \"write to think\" culture shifted their perspective. They realized that even work that gets scrapped is valuable because it contributes to skill development and learning. The \"write to think\" approach encourages frequent, early writing with the understanding that not everything will be a final product, promoting iteration and learning. They now advocate for this approach, emphasizing that there is no \"throwaway work\" in this model, as it all contributes to improvement.\\n'"
            ],
            "application/vnd.google.colaboratory.intrinsic+json": {
              "type": "string"
            }
          },
          "metadata": {},
          "execution_count": 9
        }
      ]
    },
    {
      "cell_type": "code",
      "source": [
        "from gtts import gTTS\n",
        "import os\n",
        "\n",
        "def text_to_speech(text):\n",
        "    tts = gTTS(text)\n",
        "    tts.save(\"summary.mp3\")"
      ],
      "metadata": {
        "id": "5bR7_ksFQoL9"
      },
      "execution_count": 10,
      "outputs": []
    },
    {
      "cell_type": "code",
      "source": [
        "text_to_speech(summary)"
      ],
      "metadata": {
        "id": "ja5mkCZ4QoJm"
      },
      "execution_count": 11,
      "outputs": []
    },
    {
      "cell_type": "code",
      "execution_count": 12,
      "metadata": {
        "id": "-ZkSChHgCBfF",
        "colab": {
          "base_uri": "https://localhost:8080/"
        },
        "outputId": "9c269d8e-dfc4-4e13-8c2c-86c02703a314"
      },
      "outputs": [
        {
          "output_type": "stream",
          "name": "stdout",
          "text": [
            "Overwriting app.py\n"
          ]
        }
      ],
      "source": [
        "%%writefile app.py\n",
        "import streamlit as st\n",
        "import google.generativeai as genai\n",
        "import os\n",
        "import tempfile\n",
        "import whisper\n",
        "from gtts import gTTS\n",
        "# Configure Gemini API key\n",
        "genai.configure(api_key=\"YOUR_API_KEY\")\n",
        "\n",
        "whisper_model = whisper.load_model(\"base\")\n",
        "def transcribe_audio(file_path):\n",
        "    result = whisper_model.transcribe(file_path)\n",
        "    return result['text']\n",
        "\n",
        "def summarize_text(text):\n",
        "    try:\n",
        "        model = genai.GenerativeModel(\"gemini-2.0-flash\")\n",
        "        response = model.generate_content([f\"Please summarize the following text:\\n\\n{text}\"])\n",
        "        return response.text\n",
        "    except Exception as e:\n",
        "        return f\"An error occurred during summarization: {e}\"\n",
        "def text_to_speech(text):\n",
        "    tts = gTTS(text)\n",
        "    tts.save(\"summary.mp3\")\n",
        "# Streamlit app\n",
        "def main():\n",
        "    summary = ''\n",
        "    st.title(\"Audio Summarizer using Gemini\")\n",
        "\n",
        "\n",
        "    uploaded_audio = st.file_uploader(\"Upload an audio file (MP3 or WAV)\", type=[\"mp3\", \"wav\",'m4a'])\n",
        "\n",
        "    if uploaded_audio is not None:\n",
        "        with tempfile.NamedTemporaryFile(delete=False, suffix=\".wav\") as tmp:\n",
        "            tmp.write(uploaded_audio.read())\n",
        "            tmp_path = tmp.name\n",
        "\n",
        "        st.audio(uploaded_audio)\n",
        "\n",
        "\n",
        "        st.subheader(\"Transcribed Text\")\n",
        "        transcript = transcribe_audio(tmp_path)\n",
        "        st.text_area(\"Transcript\", transcript, height=300)\n",
        "\n",
        "\n",
        "        if st.button(\"Summarize Text\"):\n",
        "            summary = summarize_text(transcript)\n",
        "            st.subheader(\"Summary\")\n",
        "            st.write(summary)\n",
        "            text_to_speech(summary)\n",
        "            with open(\"summary.txt\", \"w\") as text_file:\n",
        "              text_file.write(summary)\n",
        "\n",
        "            # Provide the download button for summary text\n",
        "            st.download_button(\n",
        "                label=\"Download Summary Text\",\n",
        "                data=open(\"summary.txt\", \"r\").read(),\n",
        "                file_name=\"summary.txt\",\n",
        "                mime=\"text/plain\"\n",
        "            )\n",
        "            # Provide the download button for summary audio\n",
        "            with open(\"summary.mp3\", \"rb\") as audio_file:\n",
        "                st.download_button(\n",
        "                    label=\"Download Summary Audio\",\n",
        "                    data=audio_file,\n",
        "                    file_name=\"summary.mp3\",\n",
        "                    mime=\"audio/mp3\"\n",
        "                )\n",
        "\n",
        "if __name__ == \"__main__\":\n",
        "    main()\n"
      ]
    },
    {
      "cell_type": "code",
      "execution_count": 13,
      "metadata": {
        "id": "IFTKC5YSDkn5",
        "colab": {
          "base_uri": "https://localhost:8080/"
        },
        "outputId": "5bea26cc-3fb2-4ae6-e450-f31fb6a3efb1"
      },
      "outputs": [
        {
          "output_type": "stream",
          "name": "stdout",
          "text": [
            "Requirement already satisfied: pyngrok in /usr/local/lib/python3.11/dist-packages (7.2.4)\n",
            "Requirement already satisfied: PyYAML>=5.1 in /usr/local/lib/python3.11/dist-packages (from pyngrok) (6.0.2)\n"
          ]
        }
      ],
      "source": [
        "!pip install pyngrok\n",
        "from pyngrok import ngrok\n",
        "ngrok.set_auth_token(\"ngrok_creid\")\n"
      ]
    },
    {
      "cell_type": "code",
      "execution_count": 14,
      "metadata": {
        "id": "fO78apIKGAAb"
      },
      "outputs": [],
      "source": [
        "!streamlit run app.py &>/content/logs.txt &"
      ]
    },
    {
      "cell_type": "code",
      "execution_count": 15,
      "metadata": {
        "id": "UlfS_zQrGCXy",
        "colab": {
          "base_uri": "https://localhost:8080/"
        },
        "outputId": "66b0e0ea-258a-4800-eea4-386eee4751b5"
      },
      "outputs": [
        {
          "output_type": "stream",
          "name": "stdout",
          "text": [
            "🔗 Your Streamlit app is live at: NgrokTunnel: \"https://6311-34-16-175-185.ngrok-free.app\" -> \"http://localhost:8501\"\n"
          ]
        }
      ],
      "source": [
        "public_url = ngrok.connect(8501)\n",
        "print(f\"🔗 Your Streamlit app is live at: {public_url}\")"
      ]
    },
    {
      "cell_type": "code",
      "execution_count": 15,
      "metadata": {
        "id": "jzwI7JubFYRy"
      },
      "outputs": [],
      "source": []
    }
  ],
  "metadata": {
    "accelerator": "GPU",
    "colab": {
      "gpuType": "T4",
      "provenance": []
    },
    "kernelspec": {
      "display_name": "Python 3",
      "name": "python3"
    },
    "language_info": {
      "name": "python"
    }
  },
  "nbformat": 4,
  "nbformat_minor": 0
}